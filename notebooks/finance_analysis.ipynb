{
 "cells": [
  {
   "cell_type": "markdown",
   "id": "d880644a",
   "metadata": {},
   "source": [
    "# Finance Data Analysis Project using yfinance"
   ]
  },
  {
   "cell_type": "markdown",
   "id": "6d7c3fa4",
   "metadata": {},
   "source": [
    "**Author**: Sohila Khaled Abbas\n",
    "\n",
    "**Purpose**: A software-engineering-minded Jupyter-style notebook (Python script with cells) that\n",
    "- loads configuration\n",
    "- fetches price data from yfinance\n",
    "- validates and engineers features\n",
    "- saves artifacts for Power BI\n",
    "- includes reproducible pipeline structure, logging, and simple tests"
   ]
  },
  {
   "cell_type": "markdown",
   "id": "3da89b85",
   "metadata": {},
   "source": [
    "**Instructions:**\n",
    "- Run this file in a Jupyter environment or run cells in VS Code/Colab. Cells are separated by `# %%` markers.\n",
    "- Install dependencies from requirements cell below."
   ]
  },
  {
   "cell_type": "code",
   "execution_count": 1,
   "id": "f93af429",
   "metadata": {},
   "outputs": [],
   "source": [
    "# Requirements\n",
    "# pip install yfinance pandas numpy pyarrow matplotlib pytest python-dateutil"
   ]
  },
  {
   "cell_type": "code",
   "execution_count": 2,
   "id": "b77a3810",
   "metadata": {},
   "outputs": [],
   "source": [
    "\"\"\"Config and imports\"\"\"\n",
    "from dataclasses import dataclass\n",
    "from typing import List, Optional\n",
    "import logging\n",
    "import os\n",
    "import pandas as pd\n",
    "import numpy as np\n",
    "import yfinance as yf\n",
    "from datetime import datetime, timedelta"
   ]
  },
  {
   "cell_type": "code",
   "execution_count": 3,
   "id": "c2d676cd",
   "metadata": {},
   "outputs": [],
   "source": [
    "# Setup logging\n",
    "logging.basicConfig(level=logging.INFO, format='%(asctime)s %(levelname)s %(message)s')\n",
    "logger = logging.getLogger(__name__)\n",
    "\n",
    "@dataclass\n",
    "class Config:\n",
    "    tickers: List[str]\n",
    "    start_date: str\n",
    "    end_date: str\n",
    "    interval: str = '1d'  # '1d', '1m', '1h', etc.\n",
    "    data_dir: str = 'data'\n",
    "    overwrite: bool = False"
   ]
  },
  {
   "cell_type": "code",
   "execution_count": 4,
   "id": "cfc5b420",
   "metadata": {},
   "outputs": [
    {
     "name": "stderr",
     "output_type": "stream",
     "text": [
      "2025-10-04 12:51:06,997 INFO Data directory: data\n"
     ]
    }
   ],
   "source": [
    "# default config (example)\n",
    "cfg = Config(\n",
    "    tickers=['AAPL', 'MSFT', 'GOOGL'],\n",
    "    start_date=(datetime.today() - timedelta(days=365)).strftime('%Y-%m-%d'),\n",
    "    end_date=datetime.today().strftime('%Y-%m-%d'),\n",
    "    interval='1d',\n",
    "    data_dir='data',\n",
    ")\n",
    "\n",
    "os.makedirs(cfg.data_dir, exist_ok=True)\n",
    "logger.info(f\"Data directory: {cfg.data_dir}\")"
   ]
  },
  {
   "cell_type": "markdown",
   "id": "c619a031",
   "metadata": {},
   "source": [
    "## Helper functions (software-engineering oriented)"
   ]
  },
  {
   "cell_type": "code",
   "execution_count": 5,
   "id": "425f0306",
   "metadata": {},
   "outputs": [],
   "source": [
    "def fetch_history(tickers: List[str], start: str, end: str, interval: str = '1d') -> pd.DataFrame:\n",
    "    \"\"\"Fetch historical price data for a list of tickers using yfinance.\n",
    "    Returns a tidy DataFrame with ticker as a column.\n",
    "    \"\"\"\n",
    "    logger.info(f\"Fetching data for {len(tickers)} tickers from {start} to {end} interval={interval}\")\n",
    "    # yfinance supports multi-ticker download\n",
    "    data = yf.download(tickers, start=start, end=end, interval=interval, group_by='ticker', auto_adjust=False, threads=True, progress=False)\n",
    "\n",
    "    # If single ticker, yfinance returns single-level columns\n",
    "    if len(tickers) == 1:\n",
    "        t = tickers[0]\n",
    "        df = data.copy()\n",
    "        df.columns = pd.MultiIndex.from_product([[t], df.columns])\n",
    "    else:\n",
    "        df = data\n",
    "\n",
    "    # Convert to tidy long format: Date, Ticker, Open, High, Low, Close, Adj Close, Volume\n",
    "    records = []\n",
    "    for t in tickers:\n",
    "        if (t, 'Close') not in df.columns:\n",
    "            logger.warning(f\"Ticker {t} missing in downloaded data; skipping\")\n",
    "            continue\n",
    "        sub = df[t].copy()\n",
    "        sub['Ticker'] = t\n",
    "        sub = sub.reset_index()\n",
    "        records.append(sub)\n",
    "    if not records:\n",
    "        raise RuntimeError('No data fetched for requested tickers')\n",
    "    out = pd.concat(records, axis=0, ignore_index=True)\n",
    "    out = out[['Date', 'Ticker', 'Open', 'High', 'Low', 'Close', 'Adj Close', 'Volume']]\n",
    "    return out"
   ]
  },
  {
   "cell_type": "code",
   "execution_count": 6,
   "id": "e22fca2f",
   "metadata": {},
   "outputs": [],
   "source": [
    "def validate_prices(df: pd.DataFrame) -> pd.DataFrame:\n",
    "    \"\"\"Basic validation of price DataFrame.\n",
    "    - Ensure no negative prices\n",
    "    - Check missing dates per ticker and report gaps\n",
    "    \"\"\"\n",
    "    df = df.copy()\n",
    "    if (df[['Open','High','Low','Close','Adj Close']] < 0).any().any():\n",
    "        raise ValueError('Negative prices found')\n",
    "\n",
    "    # Check for duplicates\n",
    "    dup = df.duplicated(subset=['Date','Ticker']).sum()\n",
    "    if dup > 0:\n",
    "        logger.warning(f\"Found {dup} duplicated rows — deduplicating\")\n",
    "        df = df.drop_duplicates(subset=['Date','Ticker'])\n",
    "\n",
    "    # Report gaps\n",
    "    gap_report = []\n",
    "    for t, group in df.groupby('Ticker'):\n",
    "        group = group.set_index('Date').sort_index()\n",
    "        expected = pd.date_range(group.index.min(), group.index.max(), freq='D')\n",
    "        missing = expected.difference(group.index.normalize())\n",
    "        if len(missing) > 0:\n",
    "            gap_report.append((t, len(missing), missing[:3].tolist()))\n",
    "    if gap_report:\n",
    "        logger.info('Gaps detected for tickers:')\n",
    "        for item in gap_report:\n",
    "            logger.info(f\"Ticker={item[0]} missing_days={item[1]} example={item[2]}\")\n",
    "    return df"
   ]
  },
  {
   "cell_type": "code",
   "execution_count": 7,
   "id": "1e3b6fcf",
   "metadata": {},
   "outputs": [],
   "source": [
    "def compute_technical_indicators(df: pd.DataFrame, windows: Optional[List[int]] = None) -> pd.DataFrame:\n",
    "    \"\"\"Compute common technical indicators: returns, moving averages, volatility (rolling std).\n",
    "    Expects tidy DataFrame with Date, Ticker, Close columns.\n",
    "    \"\"\"\n",
    "    if windows is None:\n",
    "        windows = [5, 20, 50]\n",
    "    df = df.copy()\n",
    "    df = df.sort_values(['Ticker','Date'])\n",
    "    df['Return'] = df.groupby('Ticker')['Adj Close'].pct_change()\n",
    "    for w in windows:\n",
    "        df[f'SMA_{w}'] = df.groupby('Ticker')['Adj Close'].transform(lambda x: x.rolling(w).mean())\n",
    "        df[f'Vol_{w}'] = df.groupby('Ticker')['Return'].transform(lambda x: x.rolling(w).std())\n",
    "    # Daily log returns\n",
    "    df['LogReturn'] = np.log(df['Adj Close']) - np.log(df.groupby('Ticker')['Adj Close'].shift(1))\n",
    "    return df"
   ]
  },
  {
   "cell_type": "code",
   "execution_count": 8,
   "id": "9368b79f",
   "metadata": {},
   "outputs": [],
   "source": [
    "def resample_to_weekly(df: pd.DataFrame) -> pd.DataFrame:\n",
    "    \"\"\"Resample daily data to weekly OHLCV per ticker (W-FRI)\"\"\"\n",
    "    out_frames = []\n",
    "    for t, g in df.groupby('Ticker'):\n",
    "        temp = g.set_index('Date').sort_index()\n",
    "        o = temp['Open'].resample('W-FRI').first()\n",
    "        h = temp['High'].resample('W-FRI').max()\n",
    "        l = temp['Low'].resample('W-FRI').min()\n",
    "        c = temp['Close'].resample('W-FRI').last()\n",
    "        v = temp['Volume'].resample('W-FRI').sum()\n",
    "        adj = temp['Adj Close'].resample('W-FRI').last()\n",
    "        wdf = pd.DataFrame({'Open':o,'High':h,'Low':l,'Close':c,'Adj Close':adj,'Volume':v})\n",
    "        wdf = wdf.reset_index()\n",
    "        wdf['Ticker'] = t\n",
    "        out_frames.append(wdf)\n",
    "    return pd.concat(out_frames, ignore_index=True)"
   ]
  },
  {
   "cell_type": "code",
   "execution_count": 9,
   "id": "0d761275",
   "metadata": {},
   "outputs": [],
   "source": [
    "def save_artifacts(df: pd.DataFrame, cfg: Config):\n",
    "    \"\"\"Save a cleaned dataframe and aggregated versions for Power BI consumption.\"\"\"\n",
    "    ts = datetime.now().strftime('%Y%m%d_%H%M%S')\n",
    "    clean_path = os.path.join(cfg.data_dir, f'prices_clean_{ts}.parquet')\n",
    "    df.to_parquet(clean_path, index=False)\n",
    "    logger.info(f\"Saved cleaned parquet to {clean_path}\")\n",
    "\n",
    "    # also CSV export for Power BI\n",
    "    csv_path = os.path.join(cfg.data_dir, f'prices_clean_{ts}.csv')\n",
    "    df.to_csv(csv_path, index=False)\n",
    "    logger.info(f\"Saved cleaned csv to {csv_path}\")\n",
    "\n",
    "    # create and save weekly resample\n",
    "    weekly = resample_to_weekly(df)\n",
    "    weekly_path = os.path.join(cfg.data_dir, f'prices_weekly_{ts}.parquet')\n",
    "    weekly.to_parquet(weekly_path, index=False)\n",
    "    logger.info(f\"Saved weekly parquet to {weekly_path}\")\n",
    "\n",
    "    return {'parquet': clean_path, 'csv': csv_path, 'weekly_parquet': weekly_path}"
   ]
  },
  {
   "cell_type": "markdown",
   "id": "c968ebe7",
   "metadata": {},
   "source": [
    "## Pipeline: end-to-end example run"
   ]
  },
  {
   "cell_type": "code",
   "execution_count": 10,
   "id": "55042745",
   "metadata": {},
   "outputs": [],
   "source": [
    "def run_pipeline(cfg: Config):\n",
    "    df_raw = fetch_history(cfg.tickers, cfg.start_date, cfg.end_date, cfg.interval)\n",
    "    df_valid = validate_prices(df_raw)\n",
    "    df_features = compute_technical_indicators(df_valid)\n",
    "    artifacts = save_artifacts(df_features, cfg)\n",
    "    return df_features, artifacts"
   ]
  },
  {
   "cell_type": "code",
   "execution_count": 11,
   "id": "93a4f618",
   "metadata": {},
   "outputs": [
    {
     "name": "stderr",
     "output_type": "stream",
     "text": [
      "2025-10-04 12:51:07,071 INFO Running pipeline with default config\n",
      "2025-10-04 12:51:07,072 INFO Fetching data for 3 tickers from 2024-10-04 to 2025-10-04 interval=1d\n",
      "2025-10-04 12:51:07,072 INFO Fetching data for 3 tickers from 2024-10-04 to 2025-10-04 interval=1d\n",
      "2025-10-04 12:51:11,947 INFO Gaps detected for tickers:\n",
      "2025-10-04 12:51:11,948 INFO Ticker=AAPL missing_days=115 example=[Timestamp('2024-10-05 00:00:00'), Timestamp('2024-10-06 00:00:00'), Timestamp('2024-10-12 00:00:00')]\n",
      "2025-10-04 12:51:11,949 INFO Ticker=GOOGL missing_days=115 example=[Timestamp('2024-10-05 00:00:00'), Timestamp('2024-10-06 00:00:00'), Timestamp('2024-10-12 00:00:00')]\n",
      "2025-10-04 12:51:11,949 INFO Ticker=MSFT missing_days=115 example=[Timestamp('2024-10-05 00:00:00'), Timestamp('2024-10-06 00:00:00'), Timestamp('2024-10-12 00:00:00')]\n",
      "2025-10-04 12:51:13,000 INFO Saved cleaned parquet to data\\prices_clean_20251004_125112.parquet\n",
      "2025-10-04 12:51:13,036 INFO Saved cleaned csv to data\\prices_clean_20251004_125112.csv\n",
      "2025-10-04 12:51:13,132 INFO Saved weekly parquet to data\\prices_weekly_20251004_125112.parquet\n",
      "2025-10-04 12:51:13,133 INFO Pipeline finished\n"
     ]
    }
   ],
   "source": [
    "if __name__ == '__main__':\n",
    "    logger.info('Running pipeline with default config')\n",
    "    df, artifacts = run_pipeline(cfg)\n",
    "    logger.info('Pipeline finished')"
   ]
  },
  {
   "cell_type": "markdown",
   "id": "b7db8375",
   "metadata": {},
   "source": [
    "## Quick Visualizations (optional)"
   ]
  },
  {
   "cell_type": "code",
   "execution_count": 12,
   "id": "c334e9b9",
   "metadata": {},
   "outputs": [],
   "source": [
    "import matplotlib.pyplot as plt"
   ]
  },
  {
   "cell_type": "code",
   "execution_count": 17,
   "id": "cd6af0d5",
   "metadata": {},
   "outputs": [
    {
     "data": {
      "image/png": "[encoded data removed]",
      "text/plain": [
       "<Figure size 1000x400 with 1 Axes>"
      ]
     },
     "metadata": {},
     "output_type": "display_data"
    }
   ],
   "source": [
    "# sample plot function\n",
    "def plot_close(ticker: str, df: pd.DataFrame):\n",
    "    sub = df[df['Ticker'] == ticker].set_index('Date').sort_index()\n",
    "    plt.figure(figsize=(10,4))\n",
    "    plt.plot(sub['Adj Close'])\n",
    "    plt.title(f'Adjusted Close Price: {ticker}')\n",
    "    plt.tight_layout()\n",
    "    plt.show()\n",
    "# Example usage of plot function\n",
    "plot_close('AAPL', df)        "
   ]
  },
  {
   "cell_type": "markdown",
   "id": "90685604",
   "metadata": {},
   "source": [
    "## Unit-test-like sanity checks"
   ]
  },
  {
   "cell_type": "code",
   "execution_count": 14,
   "id": "7eb96415",
   "metadata": {},
   "outputs": [],
   "source": [
    "def _sanity_tests(df: pd.DataFrame):\n",
    "    # ensure at least one ticker present\n",
    "    assert df['Ticker'].nunique() > 0, 'No tickers present'\n",
    "    # no negative volumes\n",
    "    assert (df['Volume'] >= 0).all(), 'Negative volume found'\n",
    "    logger.info('Sanity tests passed')"
   ]
  },
  {
   "cell_type": "code",
   "execution_count": 15,
   "id": "cf8c6a65",
   "metadata": {},
   "outputs": [],
   "source": [
    "# Example usage of tests (uncomment when running interactively)\n",
    "# _sanity_tests(df)"
   ]
  },
  {
   "cell_type": "markdown",
   "id": "ca614541",
   "metadata": {},
   "source": [
    "## Data Pipeline Workflow"
   ]
  },
  {
   "cell_type": "markdown",
   "id": "eb81fc55",
   "metadata": {},
   "source": [
    "1. **Extract**: Use yfinance to pull stock/ETF data (tickers, OHLCV, fundamentals).\n",
    "2. **Transform**: Engineer features:\n",
    "     - Daily % returns\n",
    "     - Rolling 30-day volatility\n",
    "     - Moving averages (20, 50, 200-day)\n",
    "     - Weekly resample for smoother trend visuals\n",
    "3. **Load**: Save into a Data folder in CSV or Parquet → this is what Power BI connects to."
   ]
  },
  {
   "cell_type": "markdown",
   "id": "d0ad99e8",
   "metadata": {},
   "source": [
    "## Scheduled Refresh with Prefect (lightweight)"
   ]
  },
  {
   "cell_type": "code",
   "execution_count": null,
   "id": "8306d787",
   "metadata": {},
   "outputs": [],
   "source": [
    "from prefect import flow, task\n",
    "import yfinance as yf\n",
    "import pandas as pd\n",
    "from datetime import datetime, timedelta\n",
    "\n",
    "@task\n",
    "def fetch_data(tickers, start, end):\n",
    "    return yf.download(tickers, start=start, end=end, group_by='ticker')\n",
    "\n",
    "@task\n",
    "def transform_data(raw_data):\n",
    "    # Example: compute daily returns for each ticker\n",
    "    frames = []\n",
    "    for ticker in raw_data.columns.levels[0]:\n",
    "        df = raw_data[ticker].copy()\n",
    "        df['Return'] = df['Adj Close'].pct_change()\n",
    "        df['Ticker'] = ticker\n",
    "        frames.append(df)\n",
    "    return pd.concat(frames)\n",
    "\n",
    "@task\n",
    "def save_data(df):\n",
    "    df.to_parquet(\"data/finance_latest.parquet\")\n",
    "\n",
    "@flow\n",
    "def finance_pipeline():\n",
    "    tickers = [\"AAPL\", \"MSFT\", \"GOOGL\"]\n",
    "    end = datetime.today()\n",
    "    start = end - timedelta(days=365)\n",
    "    raw = fetch_data(tickers, start, end)\n",
    "    transformed = transform_data(raw)\n",
    "    save_data(transformed)\n",
    "\n",
    "if __name__ == \"__main__\":\n",
    "    finance_pipeline()"
   ]
  },
  {
   "cell_type": "markdown",
   "id": "c571138d",
   "metadata": {},
   "source": [
    "➡️ Register this flow in **Prefect Cloud** or schedule it with cron (daily at 8am)."
   ]
  },
  {
   "cell_type": "markdown",
   "id": "3fc0fea1",
   "metadata": {},
   "source": [
    "## Exporting for Power BI & Storytelling guidance"
   ]
  },
  {
   "cell_type": "markdown",
   "id": "2d7e8378",
   "metadata": {},
   "source": [
    "The pipeline saves `csv`/`parquet` artifacts in the `data/` folder. Use these files as the data source in Power BI."
   ]
  },
  {
   "cell_type": "markdown",
   "id": "875498c1",
   "metadata": {},
   "source": [
    "### Suggested Power BI model & storytelling flow (high level):\n",
    "1. Data model: single fact table (prices_clean) with dimensions created from the table: Date dimension (use Power BI's date table), Ticker dimension (Ticker + company metadata such as sector, market cap if you enrich), and Derived measures.\n",
    "2. Important measures to create in Power BI (DAX):\n",
    "   - Latest Close = LASTNONBLANKVALUE(prices[Adj Close], prices[Date])\n",
    "   - Return (Period) = DIVIDE( SUM(prices[Adj Close]) - CALCULATE(SUM(prices[Adj Close]), DATEADD(DateTable[Date], -period, DAY)), CALCULATE(SUM(prices[Adj Close]), DATEADD(...)) )\n",
    "   - Volatility (30-day) = calculate rolling stdev using DAX or precompute in Python.\n",
    "3. Visuals and storytelling layout:\n",
    "    - Top-level KPIs: Latest price, 1w/1m/1y returns, 30d volatility, market cap (if available).\n",
    "    - Trend section: line chart of Adj Close with overlays of SMA_20 and SMA_50 + volume bars.\n",
    "    - Return distribution: histogram or violin plot of daily returns.\n",
    "    - Risk/Return scatter: x=Volatility (e.g., 30d), y=Return (e.g., YTD) with dots sized by market cap.\n",
    "    - Event timeline: vertical lines or annotations for major events (earnings dates) — enrich data with corporate events if needed.\n",
    "4. Narrative (storytelling):\n",
    "    - Start with a one-sentence insight: e.g., \"AAPL outperformed peers over the last year driven by X, while volatility rose in March due to Y.\"\n",
    "    - Use sections: Summary (KPI), Evidence (charts), Drivers (tables + event annotations), Recommendations (actions or watchlist).\n",
    "5. Interactivity: slicers for ticker, date range, and indicators. Bookmarks for scenario storytelling slides.\n"
   ]
  },
  {
   "cell_type": "markdown",
   "id": "e4bae388",
   "metadata": {},
   "source": [
    "## Project Lifecycle\n",
    "1. **Define audience** → Executive (storytelling KPIs) vs Quant (detailed stats).\n",
    "2. **Design ETL pipeline in Python** → Prefect scheduled refresh.\n",
    "3. **Export cleaned dataset** (Parquet/CSV).\n",
    "4. **Connect to Power BI** → Build separate dashboards for each audience.\n",
    "5. **Iterate & add context** (company metadata, sector benchmarks).\n",
    "6. **Publish & Automate Refresh** → Power BI Service with same schedule as Prefect."
   ]
  }
 ],
 "metadata": {
  "kernelspec": {
   "display_name": ".venv (3.13.7)",
   "language": "python",
   "name": "python3"
  },
  "language_info": {
   "codemirror_mode": {
    "name": "ipython",
    "version": 3
   },
   "file_extension": ".py",
   "mimetype": "text/x-python",
   "name": "python",
   "nbconvert_exporter": "python",
   "pygments_lexer": "ipython3",
   "version": "3.13.7"
  }
 },
 "nbformat": 4,
 "nbformat_minor": 5
}
